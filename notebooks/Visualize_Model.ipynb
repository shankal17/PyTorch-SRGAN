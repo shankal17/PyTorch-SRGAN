{
 "cells": [
  {
   "cell_type": "code",
   "execution_count": null,
   "metadata": {},
   "outputs": [],
   "source": [
    "import torch\n",
    "import torchvision\n",
    "from IPython.display import display\n",
    "from PIL import Image\n",
    "import sys\n",
    "sys.path.append('../models')\n",
    "sys.path.append('..')\n",
    "\n",
    "from generator import Generator\n",
    "\n",
    "device = torch.device(\"cuda\" if torch.cuda.is_available() else \"cpu\")\n",
    "checkpoint = torch.load('checkpoint/path/here')"
   ]
  },
  {
   "cell_type": "code",
   "execution_count": null,
   "metadata": {
    "scrolled": false
   },
   "outputs": [],
   "source": [
    "generator = checkpoint['generator'].to(device)\n",
    "hr = Image.open('image/path/here')\n",
    "scaling_factor = 8\n",
    "lr = hr.resize((int(hr.width / scaling_factor), int(hr.height / scaling_factor)), Image.BICUBIC).convert('RGB')\n",
    "lr = torchvision.transforms.ToTensor().__call__(lr)\n",
    "lr = lr.unsqueeze(0).to(device)\n",
    "with torch.no_grad():\n",
    "    sr = generator(lr)\n",
    "converted_sr = torchvision.transforms.ToPILImage().__call__(sr.squeeze().to('cpu'))\n",
    "display(converted_sr)\n",
    "converted_lr = torchvision.transforms.ToPILImage().__call__(lr.squeeze().to('cpu'))\n",
    "converted_lr = converted_lr.resize((converted_sr.width, converted_sr.height), Image.NEAREST).convert('RGB')\n",
    "display(converted_lr)"
   ]
  },
  {
   "cell_type": "code",
   "execution_count": null,
   "metadata": {},
   "outputs": [],
   "source": []
  }
 ],
 "metadata": {
  "kernelspec": {
   "display_name": "Python 3",
   "language": "python",
   "name": "python3"
  },
  "language_info": {
   "codemirror_mode": {
    "name": "ipython",
    "version": 3
   },
   "file_extension": ".py",
   "mimetype": "text/x-python",
   "name": "python",
   "nbconvert_exporter": "python",
   "pygments_lexer": "ipython3",
   "version": "3.8.3rc1"
  }
 },
 "nbformat": 4,
 "nbformat_minor": 4
}
